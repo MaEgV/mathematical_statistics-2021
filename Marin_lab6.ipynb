{
 "cells": [
  {
   "cell_type": "code",
   "execution_count": 90,
   "id": "analyzed-actor",
   "metadata": {},
   "outputs": [
    {
     "name": "stdout",
     "output_type": "stream",
     "text": [
      "mnk- 0.45643316667011874 2.035442202730988\n",
      "[[1.99817856]] {'base_estimator': None, 'is_data_valid': None, 'is_model_valid': None, 'loss': 'absolute_loss', 'max_skips': inf, 'max_trials': 100, 'min_samples': None, 'random_state': None, 'residual_threshold': None, 'stop_n_inliers': inf, 'stop_probability': 0.99, 'stop_score': inf}\n"
     ]
    },
    {
     "data": {
      "image/png": "[encoded data removed]",
      "text/plain": [
       "<Figure size 432x288 with 1 Axes>"
      ]
     },
     "metadata": {
      "needs_background": "light"
     },
     "output_type": "display_data"
    },
    {
     "data": {
      "text/plain": [
       "{'copy_X': True,\n",
       " 'fit_intercept': True,\n",
       " 'n_jobs': None,\n",
       " 'normalize': False,\n",
       " 'positive': False}"
      ]
     },
     "execution_count": 90,
     "metadata": {},
     "output_type": "execute_result"
    }
   ],
   "source": [
    "import matplotlib.pyplot as plt\n",
    "import scipy.stats as stats\n",
    "import numpy as np\n",
    "import math\n",
    "import csv\n",
    "import pandas as pd\n",
    "from sklearn import linear_model\n",
    "\n",
    "\n",
    "def get_func():\n",
    "    return lambda x: 2 + 2*x\n",
    "\n",
    "def get_noise_func(scale):\n",
    "    return lambda x: 2 + 2*x + np.random.normal(0, scale, 20)\n",
    "\n",
    "def get_mnk_func(x_grid, y_grid):\n",
    "    res = stats.linregress(x_grid, y_noisy)\n",
    "    print('mnk-',res.slope, res.intercept)\n",
    "    return lambda x: x*res.slope + res.intercept\n",
    "\n",
    "def get_mnm_func(x_grid, y_grid):\n",
    "    ransac = linear_model.RANSACRegressor()\n",
    "    ransac.fit(np.reshape(x_grid, (20,1)), np.reshape(y_grid, (20,1)))\n",
    "    print(ransac.estimator_.coef_, ransac.get_params())\n",
    "    return lambda x: x*ransac.estimator_.coef_[0][0]\n",
    "\n",
    "x_grid = np.arange(-1.8, 2.2, 0.2)\n",
    "\n",
    "func = get_func()\n",
    "\n",
    "\n",
    "\n",
    "y_grid = func(x_grid)\n",
    "y_noisy = y_grid + np.random.normal(0, 1.5, len(y_grid))\n",
    "\n",
    "y_noisy[0]+=10\n",
    "y_noisy[-1]-=10\n",
    "mnk = get_mnk_func(x_grid, y_noisy)\n",
    "mnm = get_mnm_func(x_grid, y_noisy)\n",
    "\n",
    "\n",
    "plt.plot(x_grid, y_grid, label=\"Модель\")\n",
    "plt.plot(x_grid, mnk(x_grid), label=\"МНК\")\n",
    "plt.plot(x_grid, mnm(x_grid), label=\"МНМ\")\n",
    "plt.scatter(x_grid, y_noisy, c='red', label='Выборка')\n",
    "plt.legend()\n",
    "plt.savefig('2.png')\n",
    "plt.show()\n",
    "regr = linear_model.LinearRegression()\n",
    "regr.get_params()"
   ]
  },
  {
   "cell_type": "code",
   "execution_count": 75,
   "id": "floating-strengthening",
   "metadata": {},
   "outputs": [
    {
     "name": "stdout",
     "output_type": "stream",
     "text": [
      "Estimated coefficients (true, linear regression, RANSAC):\n",
      "[[2.]]\n"
     ]
    },
    {
     "data": {
      "image/png": "[encoded data removed]",
      "text/plain": [
       "<Figure size 432x288 with 1 Axes>"
      ]
     },
     "metadata": {
      "needs_background": "light"
     },
     "output_type": "display_data"
    }
   ],
   "source": [
    "# Robustly fit linear model with RANSAC algorithm\\\n",
    "X = np.reshape(np.arange(-1.8, 2.2, 0.2), (20, 1))\n",
    "f = lambda x: 2 + 2*x + np.random.normal(0, 0.2)\n",
    "y = np.reshape(f(X), (20, 1))\n",
    "ransac = linear_model.RANSACRegressor()\n",
    "ransac.fit(X, y)\n",
    "\n",
    "\n",
    "# Predict data of estimated models\n",
    "# line_y = lr.predict(line_X)\n",
    "\n",
    "# Compare estimated coefficients\n",
    "print(\"Estimated coefficients (true, linear regression, RANSAC):\")\n",
    "print(ransac.estimator_.coef_)\n",
    "\n",
    "lw = 2\n",
    "# plt.scatter(X[inlier_mask], y[inlier_mask], color='yellowgreen', marker='.',\n",
    "#             label='Inliers')\n",
    "# plt.scatter(X[outlier_mask], y[outlier_mask], color='gold', marker='.',\n",
    "#             label='Outliers')\n",
    "#plt.plot(line_X, line_y, color='navy', linewidth=lw, label='Linear regressor')\n",
    "plt.plot(X, y, color=\"red\", label=\"d\")\n",
    "plt.plot(line_X, line_y_ransac, color='cornflowerblue', linewidth=lw,\n",
    "         label='RANSAC regressor')\n",
    "plt.legend(loc='lower right')\n",
    "plt.xlabel(\"Input\")\n",
    "plt.ylabel(\"Response\")\n",
    "plt.show()"
   ]
  },
  {
   "cell_type": "code",
   "execution_count": 31,
   "id": "split-measurement",
   "metadata": {},
   "outputs": [
    {
     "ename": "KeyboardInterrupt",
     "evalue": "Interrupted by user",
     "output_type": "error",
     "traceback": [
      "\u001b[1;31m---------------------------------------------------------------------------\u001b[0m",
      "\u001b[1;31mKeyboardInterrupt\u001b[0m                         Traceback (most recent call last)",
      "\u001b[1;32m<ipython-input-31-3d0ff5ee97ec>\u001b[0m in \u001b[0;36m<module>\u001b[1;34m\u001b[0m\n\u001b[1;32m----> 1\u001b[1;33m \u001b[0mminutes\u001b[0m \u001b[1;33m=\u001b[0m \u001b[0mint\u001b[0m\u001b[1;33m(\u001b[0m\u001b[0minput\u001b[0m\u001b[1;33m(\u001b[0m\u001b[1;33m)\u001b[0m\u001b[1;33m)\u001b[0m\u001b[1;33m\u001b[0m\u001b[1;33m\u001b[0m\u001b[0m\n\u001b[0m\u001b[0;32m      2\u001b[0m \u001b[0mh\u001b[0m \u001b[1;33m=\u001b[0m \u001b[0mint\u001b[0m\u001b[1;33m(\u001b[0m\u001b[0minput\u001b[0m\u001b[1;33m(\u001b[0m\u001b[1;33m)\u001b[0m\u001b[1;33m)\u001b[0m\u001b[1;33m\u001b[0m\u001b[1;33m\u001b[0m\u001b[0m\n\u001b[0;32m      3\u001b[0m \u001b[0mm\u001b[0m \u001b[1;33m=\u001b[0m \u001b[0mint\u001b[0m\u001b[1;33m(\u001b[0m\u001b[0minput\u001b[0m\u001b[1;33m(\u001b[0m\u001b[1;33m)\u001b[0m\u001b[1;33m)\u001b[0m\u001b[1;33m\u001b[0m\u001b[1;33m\u001b[0m\u001b[0m\n\u001b[0;32m      4\u001b[0m \u001b[0mprint\u001b[0m\u001b[1;33m(\u001b[0m\u001b[0mminutes\u001b[0m \u001b[1;33m//\u001b[0m \u001b[1;36m60\u001b[0m \u001b[1;33m+\u001b[0m \u001b[0mh\u001b[0m \u001b[1;33m+\u001b[0m \u001b[1;33m(\u001b[0m\u001b[0mminutes\u001b[0m \u001b[1;33m%\u001b[0m \u001b[1;36m60\u001b[0m \u001b[1;33m+\u001b[0m \u001b[0mm\u001b[0m\u001b[1;33m)\u001b[0m \u001b[1;33m//\u001b[0m \u001b[1;36m60\u001b[0m\u001b[1;33m)\u001b[0m\u001b[1;33m\u001b[0m\u001b[1;33m\u001b[0m\u001b[0m\n\u001b[0;32m      5\u001b[0m \u001b[0mprint\u001b[0m\u001b[1;33m(\u001b[0m\u001b[1;33m(\u001b[0m\u001b[0mminutes\u001b[0m \u001b[1;33m%\u001b[0m \u001b[1;36m60\u001b[0m \u001b[1;33m+\u001b[0m \u001b[0mm\u001b[0m\u001b[1;33m)\u001b[0m \u001b[1;33m%\u001b[0m \u001b[1;36m60\u001b[0m\u001b[1;33m)\u001b[0m\u001b[1;33m\u001b[0m\u001b[1;33m\u001b[0m\u001b[0m\n",
      "\u001b[1;32m~\\Anaconda3\\lib\\site-packages\\ipykernel\\kernelbase.py\u001b[0m in \u001b[0;36mraw_input\u001b[1;34m(self, prompt)\u001b[0m\n\u001b[0;32m    861\u001b[0m             \u001b[0mself\u001b[0m\u001b[1;33m.\u001b[0m\u001b[0m_parent_ident\u001b[0m\u001b[1;33m,\u001b[0m\u001b[1;33m\u001b[0m\u001b[1;33m\u001b[0m\u001b[0m\n\u001b[0;32m    862\u001b[0m             \u001b[0mself\u001b[0m\u001b[1;33m.\u001b[0m\u001b[0m_parent_header\u001b[0m\u001b[1;33m,\u001b[0m\u001b[1;33m\u001b[0m\u001b[1;33m\u001b[0m\u001b[0m\n\u001b[1;32m--> 863\u001b[1;33m             \u001b[0mpassword\u001b[0m\u001b[1;33m=\u001b[0m\u001b[1;32mFalse\u001b[0m\u001b[1;33m,\u001b[0m\u001b[1;33m\u001b[0m\u001b[1;33m\u001b[0m\u001b[0m\n\u001b[0m\u001b[0;32m    864\u001b[0m         )\n\u001b[0;32m    865\u001b[0m \u001b[1;33m\u001b[0m\u001b[0m\n",
      "\u001b[1;32m~\\Anaconda3\\lib\\site-packages\\ipykernel\\kernelbase.py\u001b[0m in \u001b[0;36m_input_request\u001b[1;34m(self, prompt, ident, parent, password)\u001b[0m\n\u001b[0;32m    902\u001b[0m             \u001b[1;32mexcept\u001b[0m \u001b[0mKeyboardInterrupt\u001b[0m\u001b[1;33m:\u001b[0m\u001b[1;33m\u001b[0m\u001b[1;33m\u001b[0m\u001b[0m\n\u001b[0;32m    903\u001b[0m                 \u001b[1;31m# re-raise KeyboardInterrupt, to truncate traceback\u001b[0m\u001b[1;33m\u001b[0m\u001b[1;33m\u001b[0m\u001b[1;33m\u001b[0m\u001b[0m\n\u001b[1;32m--> 904\u001b[1;33m                 \u001b[1;32mraise\u001b[0m \u001b[0mKeyboardInterrupt\u001b[0m\u001b[1;33m(\u001b[0m\u001b[1;34m\"Interrupted by user\"\u001b[0m\u001b[1;33m)\u001b[0m \u001b[1;32mfrom\u001b[0m \u001b[1;32mNone\u001b[0m\u001b[1;33m\u001b[0m\u001b[1;33m\u001b[0m\u001b[0m\n\u001b[0m\u001b[0;32m    905\u001b[0m             \u001b[1;32mexcept\u001b[0m \u001b[0mException\u001b[0m \u001b[1;32mas\u001b[0m \u001b[0me\u001b[0m\u001b[1;33m:\u001b[0m\u001b[1;33m\u001b[0m\u001b[1;33m\u001b[0m\u001b[0m\n\u001b[0;32m    906\u001b[0m                 \u001b[0mself\u001b[0m\u001b[1;33m.\u001b[0m\u001b[0mlog\u001b[0m\u001b[1;33m.\u001b[0m\u001b[0mwarning\u001b[0m\u001b[1;33m(\u001b[0m\u001b[1;34m\"Invalid Message:\"\u001b[0m\u001b[1;33m,\u001b[0m \u001b[0mexc_info\u001b[0m\u001b[1;33m=\u001b[0m\u001b[1;32mTrue\u001b[0m\u001b[1;33m)\u001b[0m\u001b[1;33m\u001b[0m\u001b[1;33m\u001b[0m\u001b[0m\n",
      "\u001b[1;31mKeyboardInterrupt\u001b[0m: Interrupted by user"
     ]
    }
   ],
   "source": [
    "minutes = int(input())\n",
    "h = int(input())\n",
    "m = int(input())\n",
    "print(minutes // 60 + h + (minutes % 60 + m) // 60)\n",
    "print((minutes % 60 + m) % 60)"
   ]
  },
  {
   "cell_type": "code",
   "execution_count": 5,
   "id": "quarterly-argentina",
   "metadata": {},
   "outputs": [
    {
     "name": "stdin",
     "output_type": "stream",
     "text": [
      " 2100\n"
     ]
    },
    {
     "name": "stdout",
     "output_type": "stream",
     "text": [
      "Обычный\n"
     ]
    }
   ],
   "source": [
    "year = int(input())\n",
    "if year % 4 == 0 and year % 100 != 0:\n",
    "    print('Високосный')\n",
    "elif year % 400 == 0:\n",
    "    print('Високосный')\n",
    "else:\n",
    "    print('Обычный')"
   ]
  },
  {
   "cell_type": "code",
   "execution_count": 7,
   "id": "pharmaceutical-romance",
   "metadata": {},
   "outputs": [
    {
     "name": "stdin",
     "output_type": "stream",
     "text": [
      " 3\n",
      " С;9;З;10\n",
      " Л;12;З;3\n",
      " С;8;Л;15\n"
     ]
    },
    {
     "name": "stdout",
     "output_type": "stream",
     "text": [
      "С:2 0 0 2 0\n",
      "З:2 1 0 1 3\n",
      "Л:2 2 0 0 6\n"
     ]
    }
   ],
   "source": [
    "games = int(input())\n",
    "results = {}\n",
    "for n in range(games):\n",
    "    line = input()\n",
    "    line = line.split(\";\")\n",
    "    for i in range(0,3,2):\n",
    "        if line[i] not in results:\n",
    "            results[line[i]] = [1, 0, 0, 0, 0]\n",
    "        else:\n",
    "            results[line[i]][0] += 1\n",
    "            \n",
    "    if int(line[1]) > int(line[3]):\n",
    "        results[line[0]][1] += 1\n",
    "        results[line[2]][3] += 1\n",
    "    elif int(line[1]) == int(line[3]):\n",
    "        results[line[0]][2] += 1\n",
    "        results[line[2]][2] += 1\n",
    "    else:\n",
    "        results[line[0]][3] += 1\n",
    "        results[line[2]][1] += 1\n",
    "\n",
    "for team, res in results.items():\n",
    "    res[4] = res[1]*3 + res[2]\n",
    "    print(team+\":\"+ str(res[0]), res[1], res[2], res[3], res[4])"
   ]
  },
  {
   "cell_type": "code",
   "execution_count": null,
   "id": "genuine-tiffany",
   "metadata": {},
   "outputs": [],
   "source": [
    "res = dict()\n",
    "for _ in range(int(input())):\n",
    "    line = input().split(';')\n",
    "    if line[1] > line[3]:\n",
    "        res[line[0]] = res.get(line[0], [0]*5) + "
   ]
  },
  {
   "cell_type": "code",
   "execution_count": 7,
   "id": "hairy-refrigerator",
   "metadata": {},
   "outputs": [
    {
     "name": "stdout",
     "output_type": "stream",
     "text": [
      "['E', '17', 'D', '15', 'J', '20', 's', '9', 'i', '3', 'N', '4', 'p', '19', 'g', '20', 'D', '18', 'z', '4', 'O', '18', 'u', '6', 'e', '17', 'G', '6', 'u', '18', 's', '9', 'D', '14', 'H', '9', 'k', '9', 'X', '19', 'e', '20', 'c', '12', 'o', '16', 'e', '18', 'p', '1', 'i', '16', 'U', '3', 'M', '2', 'X', '2', 'O', '9', 'p', '16', 'J', '6', 'i', '12', 't', '7', 'R', '6', 'L', '5', 'G', '4', '']\n",
      "EEEEEEEEEEEEEEEEE\n",
      "DDDDDDDDDDDDDDD\n",
      "JJJJJJJJJJJJJJJJJJJJ\n",
      "sssssssss\n",
      "iii\n",
      "NNNN\n",
      "ppppppppppppppppppp\n",
      "gggggggggggggggggggg\n",
      "DDDDDDDDDDDDDDDDDD\n",
      "zzzz\n",
      "OOOOOOOOOOOOOOOOOO\n",
      "uuuuuu\n",
      "eeeeeeeeeeeeeeeee\n",
      "GGGGGG\n",
      "uuuuuuuuuuuuuuuuuu\n",
      "sssssssss\n",
      "DDDDDDDDDDDDDD\n",
      "HHHHHHHHH\n",
      "kkkkkkkkk\n",
      "XXXXXXXXXXXXXXXXXXX\n",
      "eeeeeeeeeeeeeeeeeeee\n",
      "cccccccccccc\n",
      "oooooooooooooooo\n",
      "eeeeeeeeeeeeeeeeee\n",
      "p\n",
      "iiiiiiiiiiiiiiii\n",
      "UUU\n",
      "MM\n",
      "XX\n",
      "OOOOOOOOO\n",
      "pppppppppppppppp\n",
      "JJJJJJ\n",
      "iiiiiiiiiiii\n",
      "ttttttt\n",
      "RRRRRR\n",
      "LLLLL\n",
      "GGGG\n"
     ]
    }
   ],
   "source": [
    "import re\n",
    "with open(\"1.txt\") as file:\n",
    "    s=file.readline().strip()\n",
    "    s=re.split(r\"(\\d+)\", s)\n",
    "    print(s)\n",
    "    out=open(\"2\",'w')\n",
    "    for i in range(len(s)-1):\n",
    "        if i%2==0:\n",
    "            output=s[i]*int(s[i+1])\n",
    "            print(output)\n",
    "            out.write(output + '')\n",
    "        else:\n",
    "            continue\n",
    "out.close()"
   ]
  },
  {
   "cell_type": "code",
   "execution_count": 11,
   "id": "checked-acrobat",
   "metadata": {},
   "outputs": [],
   "source": [
    "with open ('1.txt','r') as inf:\n",
    "    s2=inf.read().strip().lower()\n",
    "s=[str(i) for i in s2.split()]\n",
    "count=0\n",
    "c=0\n",
    "for i in s:\n",
    "    if s.count(i)>=count:\n",
    "        count=s.count(i)\n",
    "        c=i\n",
    "with open ('2.txt','w') as out:\n",
    "    out.write(c)\n",
    "    out.write(\" \")\n",
    "    out.write(str(count))"
   ]
  },
  {
   "cell_type": "code",
   "execution_count": null,
   "id": "standing-invite",
   "metadata": {},
   "outputs": [],
   "source": [
    "import sys\n",
    "import string\n",
    "a =[i.strip().lower() for i in sys.stdin.readlines()] #преобразовывает входные данные в нижний регистр и выкидывает ненужные пробелы и энтеры\n",
    "a = \" \".join(a).split(' ')#склеивает все елементы списка (а) и роздиляет его по пробелам\n",
    "print (a)\n",
    "d ={}#создаем пустой словарь\n",
    "for i in a:\n",
    "    d[i]=a.count(i)#заполняем словарь парами строка: ее частота\n",
    "print (d)\n",
    "d= sorted(d.items(),key=lambda x:x[1],reverse=True)#сортировка словаря по значению в обратном порядке\n",
    "print (d)\n",
    "print(d[0][0],d[0][1])#в нулевом елементе находитсмя самый частый элеемент масива (а)"
   ]
  },
  {
   "cell_type": "code",
   "execution_count": 1,
   "id": "critical-shadow",
   "metadata": {},
   "outputs": [],
   "source": [
    "import numpy as np\n",
    "with open ('1.txt','r') as inf:\n",
    "    lines=inf.read().strip().split('\\n')\n",
    "\n",
    "out=open(\"2.txt\",'w')\n",
    "ans = [0]*3\n",
    "\n",
    "for line in lines:\n",
    "    res = list(map(int, line.split(';')[1::]))\n",
    "    for i in range(3):\n",
    "        ans[i] += res[i]\n",
    "\n",
    "    out.write(str(sum(res)/3) + '\\n')\n",
    "\n",
    "for i in ans:\n",
    "    out.write(str(i/len(lines))+ ' ')\n",
    "out.close()"
   ]
  },
  {
   "cell_type": "code",
   "execution_count": 3,
   "id": "secret-synthetic",
   "metadata": {},
   "outputs": [
    {
     "name": "stdout",
     "output_type": "stream",
     "text": [
      "1 126.0\n",
      "2 128.33333333333334\n",
      "3 134.66666666666666\n",
      "4 -\n",
      "5 145.2\n",
      "6 155.0\n",
      "7 161.4\n",
      "8 162.75\n",
      "9 170.5\n",
      "10 170.16666666666666\n",
      "11 177.33333333333334\n"
     ]
    }
   ],
   "source": [
    "setClasses = tuple(str(i) for i in range(1, 12))\n",
    "dictHeight = dict.fromkeys(setClasses, 0)\n",
    "dictCount = dict.fromkeys(setClasses, 0)\n",
    "\n",
    "with open('1.txt', encoding='UTF-8') as inf:\n",
    "    for line in inf:\n",
    "        lst = line.strip().split('\\t')\n",
    "        dictHeight[lst[0]] += float(lst[2])\n",
    "        dictCount[lst[0]] += 1\n",
    "\n",
    "for i in setClasses:\n",
    "    if dictHeight[i] == 0:\n",
    "        d = '-'\n",
    "    else:        d = str(dictHeight[i] / dictCount[i])\n",
    "    print(i + ' ' + d)"
   ]
  },
  {
   "cell_type": "code",
   "execution_count": null,
   "id": "congressional-contract",
   "metadata": {},
   "outputs": [],
   "source": []
  }
 ],
 "metadata": {
  "kernelspec": {
   "display_name": "Python 3",
   "language": "python",
   "name": "python3"
  },
  "language_info": {
   "codemirror_mode": {
    "name": "ipython",
    "version": 3
   },
   "file_extension": ".py",
   "mimetype": "text/x-python",
   "name": "python",
   "nbconvert_exporter": "python",
   "pygments_lexer": "ipython3",
   "version": "3.7.4"
  }
 },
 "nbformat": 4,
 "nbformat_minor": 5
}
