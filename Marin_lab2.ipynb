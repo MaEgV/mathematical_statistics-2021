{
 "cells": [
  {
   "cell_type": "code",
   "execution_count": 66,
   "id": "removable-compression",
   "metadata": {},
   "outputs": [],
   "source": [
    "import matplotlib.pyplot as plt\n",
    "import scipy.stats as stats\n",
    "import numpy as np\n",
    "import math\n",
    "import csv\n",
    "import pandas as pd"
   ]
  },
  {
   "cell_type": "code",
   "execution_count": 67,
   "id": "going-syndicate",
   "metadata": {},
   "outputs": [],
   "source": [
    "def quartile(sample, q):\n",
    "    size = len(sample)\n",
    "    sample.sort()\n",
    "    \n",
    "    if math.isclose(q * size, round(q*size)):\n",
    "        return sample[round(q*size)]\n",
    "    \n",
    "    return sample[round(q*size) + 1] "
   ]
  },
  {
   "cell_type": "code",
   "execution_count": 68,
   "id": "seasonal-hepatitis",
   "metadata": {},
   "outputs": [],
   "source": [
    "def get_sample_generator(size):\n",
    "    cases = (\n",
    "        (stats.norm, (0, 1), 'Normal_distribution'), \n",
    "        (stats.cauchy, (0, 1), 'Cauchy_distribution'), \n",
    "        (stats.laplace, (0, 1/math.sqrt(2)), 'Laplace_distribution'), \n",
    "        (stats.uniform, (-math.sqrt(3), 2*math.sqrt(3)), 'Uniform_distribution'),\n",
    "        (stats.poisson, (10, 0), 'Poisson_distribution')\n",
    "    )\n",
    "    \n",
    "    for case in cases:\n",
    "        sample_generator = lambda: list(map(lambda x: round(x, 4), case[0].rvs(*case[1], size)))  # rounded sample\n",
    "        yield sample_generator, case[2]\n"
   ]
  },
  {
   "cell_type": "code",
   "execution_count": 69,
   "id": "binary-absorption",
   "metadata": {},
   "outputs": [],
   "source": [
    "def research_generator(n):\n",
    "    research_functions = (\n",
    "    (lambda x: np.mean(x), 'mean(x)'),\n",
    "    (lambda x: np.median(x), 'med(x)'),\n",
    "    (lambda x: (min(x)+max(x)) / 2, 'Zr'),\n",
    "    (lambda x: (quartile(x, 0.25) + quartile(x, 0.75)) / 2, 'Zq'),\n",
    "    (lambda x: (sum(x[n // 4 + 1: n // 4 + 3*n]) / (n // 2)), 'Ztr')\n",
    "    )\n",
    "    \n",
    "    for f in research_functions:\n",
    "        yield f"
   ]
  },
  {
   "cell_type": "code",
   "execution_count": 70,
   "id": "rapid-berkeley",
   "metadata": {},
   "outputs": [],
   "source": [
    "def var_mean_to_csv(filename, res):\n",
    "    frame = pd.DataFrame.from_dict(res)\n",
    "    f1 = pd.DataFrame.from_dict(np.mean(frame)).transpose()\n",
    "    f1.index =['E(x)']\n",
    "    f2 = pd.DataFrame.from_dict(np.var(frame)).transpose()\n",
    "    f2.index =['D(x)']\n",
    "    f = pd.concat([f1,f2]).round(4)\n",
    "    f.to_csv(filename + '.csv')\n",
    "    \n"
   ]
  },
  {
   "cell_type": "code",
   "execution_count": 71,
   "id": "naughty-monaco",
   "metadata": {},
   "outputs": [],
   "source": [
    "def do_research(size, cases, repetitions=1000):\n",
    "    for get_sample, distr_name in cases(size):\n",
    "        res = dict()\n",
    "        for i in range(repetitions):\n",
    "            sample = get_sample()\n",
    "\n",
    "            for research in research_generator(size):\n",
    "                fun, f_name = research\n",
    "                try:\n",
    "                    res[f_name] += [fun(sample)]\n",
    "                except KeyError:\n",
    "                    res[f_name] = [fun(sample)]\n",
    "        var_mean_to_csv(distr_name + str(size), res)"
   ]
  },
  {
   "cell_type": "code",
   "execution_count": 72,
   "id": "suited-billion",
   "metadata": {},
   "outputs": [],
   "source": [
    "repetitions = 1000\n",
    "sizes = [10, 100, 1000]\n",
    "for size in sizes:\n",
    "    do_research(size, get_sample_generator)"
   ]
  },
  {
   "cell_type": "code",
   "execution_count": null,
   "id": "heated-festival",
   "metadata": {},
   "outputs": [],
   "source": []
  }
 ],
 "metadata": {
  "kernelspec": {
   "display_name": "Python 3",
   "language": "python",
   "name": "python3"
  },
  "language_info": {
   "codemirror_mode": {
    "name": "ipython",
    "version": 3
   },
   "file_extension": ".py",
   "mimetype": "text/x-python",
   "name": "python",
   "nbconvert_exporter": "python",
   "pygments_lexer": "ipython3",
   "version": "3.7.4"
  }
 },
 "nbformat": 4,
 "nbformat_minor": 5
}
