{
 "cells": [
  {
   "cell_type": "code",
   "execution_count": 58,
   "id": "signal-truth",
   "metadata": {},
   "outputs": [],
   "source": [
    "import matplotlib.pyplot as plt\n",
    "import scipy.stats as stats\n",
    "import numpy as np\n",
    "import math\n",
    "import csv\n",
    "import pandas as pd"
   ]
  },
  {
   "cell_type": "code",
   "execution_count": 59,
   "id": "ready-improvement",
   "metadata": {},
   "outputs": [],
   "source": [
    "def case_generator():\n",
    "    cases = (\n",
    "        (stats.norm, (0, 1), 'Normal'), \n",
    "        (stats.cauchy, (0, 1), 'Cauchy'), \n",
    "        (stats.laplace, (0, 1/math.sqrt(2)), 'Laplace'), \n",
    "        (stats.uniform, (-math.sqrt(3), 2*math.sqrt(3)), 'Uniform'),\n",
    "        (stats.poisson, (10, 0), 'Poisson')\n",
    "    )\n",
    "    \n",
    "    for case in cases:\n",
    "        sample_generator = lambda size: list(map(lambda x: round(x, 4), case[0].rvs(*case[1], size)))  # rounded sample\n",
    "        yield sample_generator, case[2]"
   ]
  },
  {
   "cell_type": "code",
   "execution_count": 60,
   "id": "handed-indianapolis",
   "metadata": {},
   "outputs": [],
   "source": [
    "def draw_boxplot(sample, name):\n",
    "    plt.boxplot(sample, sym=\"o\", labels=[\"n=20\", \"n=100\"], vert=True)\n",
    "    plt.savefig(name + '.png')\n",
    "    plt.show()\n",
    "    plt.boxplot(sample, sym=\"o\", labels=[\"n=20\", \"n=100\"], vert=True)\n",
    "    plt.xlim([-10,10])\n",
    "    plt.savefig(name + '_zoomed' + '.png')\n",
    "    plt.show()\n"
   ]
  },
  {
   "cell_type": "code",
   "execution_count": 61,
   "id": "cathedral-professor",
   "metadata": {},
   "outputs": [],
   "source": [
    "def borders(sample):\n",
    "    x_1 = np.quantile(sample, 0.25) - 3 / 2 * (np.quantile(sample, 0.75) - np.quantile(sample, 0.25))\n",
    "    x_2 = np.quantile(sample, 0.75) + 3 / 2 * (np.quantile(sample, 0.75) - np.quantile(sample, 0.25))\n",
    "\n",
    "    return x_1, x_2\n",
    "\n",
    "\n",
    "def find_outliers(sample):\n",
    "    left_border, right_border = borders(sample)\n",
    "    outliers = list()\n",
    "    for element in sample:\n",
    "        if element < left_border or element > right_border:\n",
    "            outliers.append(element)\n",
    "\n",
    "    return outliers\n",
    "\n",
    "\n",
    "def count_outliers_proportion(sample):\n",
    "    outliers = find_outliers(sample)\n",
    "\n",
    "    return len(outliers) / len(sample)"
   ]
  },
  {
   "cell_type": "code",
   "execution_count": null,
   "id": "athletic-kingston",
   "metadata": {},
   "outputs": [],
   "source": []
  },
  {
   "cell_type": "code",
   "execution_count": 64,
   "id": "functional-chase",
   "metadata": {},
   "outputs": [],
   "source": [
    "repetitions = 10\n",
    "sizes = [10000]\n",
    "\n",
    "res = dict()\n",
    "for case in case_generator():\n",
    "    get_sample, case_name = case[0], case[1]\n",
    "\n",
    "    for size in sizes:\n",
    "        test_name = case_name + ' n=' + str(size)\n",
    "        for _ in range(repetitions):\n",
    "            sample = get_sample(size)\n",
    "            try:\n",
    "                res[test_name] += [count_outliers_proportion(sample)]\n",
    "            except KeyError:\n",
    "                res[test_name] = [count_outliers_proportion(sample)]\n",
    "        res[test_name] = [np.mean(res[test_name]).round(2)]\n",
    "\n",
    "f = pd.DataFrame().from_dict(res).transpose()\n",
    "f.index.name = 'Sample'\n",
    "f.columns=['Outliers ratio']\n",
    "f.to_csv('outliers_t.csv')"
   ]
  },
  {
   "cell_type": "code",
   "execution_count": null,
   "id": "statutory-navigation",
   "metadata": {},
   "outputs": [],
   "source": []
  }
 ],
 "metadata": {
  "kernelspec": {
   "display_name": "Python 3",
   "language": "python",
   "name": "python3"
  },
  "language_info": {
   "codemirror_mode": {
    "name": "ipython",
    "version": 3
   },
   "file_extension": ".py",
   "mimetype": "text/x-python",
   "name": "python",
   "nbconvert_exporter": "python",
   "pygments_lexer": "ipython3",
   "version": "3.7.4"
  }
 },
 "nbformat": 4,
 "nbformat_minor": 5
}
